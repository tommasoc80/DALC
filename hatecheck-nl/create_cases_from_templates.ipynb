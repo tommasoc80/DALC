{
 "cells": [
  {
   "cell_type": "markdown",
   "metadata": {
    "pycharm": {
     "name": "#%% md\n"
    }
   },
   "source": [
    "# TEST CASE GENERATION"
   ]
  },
  {
   "cell_type": "code",
   "execution_count": 23,
   "metadata": {
    "pycharm": {
     "name": "#%%\n"
    }
   },
   "outputs": [],
   "source": [
    "import pandas as pd"
   ]
  },
  {
   "cell_type": "code",
   "execution_count": 24,
   "metadata": {
    "pycharm": {
     "name": "#%%\n"
    }
   },
   "outputs": [],
   "source": [
    "STORE_PATH = \".\""
   ]
  },
  {
   "cell_type": "markdown",
   "metadata": {
    "pycharm": {
     "name": "#%% md\n"
    }
   },
   "source": [
    "## Write Dictionary of Placeholder Values"
   ]
  },
  {
   "cell_type": "code",
   "execution_count": 25,
   "metadata": {
    "pycharm": {
     "name": "#%%\n"
    }
   },
   "outputs": [],
   "source": [
    "# LOAD FILES TO DATAFRAMES\n",
    "\n",
    "import_dict = dict()\n",
    "\n",
    "\n",
    "for file in ['ident', 'slr']:\n",
    "    import_df = pd.read_csv(f\"{STORE_PATH}/placeholders_{file}.csv\")\n",
    "    for col in import_df.columns:\n",
    "        if col != \"TARGET\":\n",
    "            import_dict[col] = import_df[[\"TARGET\", col]]\n",
    "            import_dict[col].columns = [\"TARGET\", \"PLACEHOLDER\"]\n"
   ]
  },
  {
   "cell_type": "code",
   "execution_count": 26,
   "metadata": {
    "pycharm": {
     "name": "#%%\n"
    }
   },
   "outputs": [
    {
     "name": "stdout",
     "output_type": "stream",
     "text": [
      "dict_keys(['[IDENT_S]', '[IDENT_P]', '[IDENT_S_char_del]', '[IDENT_P_char_del]', '[IDENT_S_space_add]', '[IDENT_P_space_add]', '[IDENT_S_leet]', '[IDENT_P_leet]', '[SLR_S]', '[SLR_P]', '[SLR_S_space_add]', '[SLR_P_space_add]', '[SLR_S_leet]', '[SLR_P_leet]']) \n",
      "\n"
     ]
    }
   ],
   "source": [
    "# COLLAPSE COLUMNS IN DATAFRAMES INTO LISTS OF STRINGS IN PLACEHOLDER DICT\n",
    "\n",
    "placeholder_dict = dict()\n",
    "\n",
    "for df in import_dict:\n",
    "    placeholder_dict[df] = {}\n",
    "    for column in import_dict[df].columns:\n",
    "        placeholder_dict[df][column] = import_dict[df][column].to_list()\n",
    "print(placeholder_dict.keys(),\"\\n\")"
   ]
  },
  {
   "cell_type": "markdown",
   "metadata": {
    "pycharm": {
     "name": "#%% md\n"
    }
   },
   "source": [
    "## Import Template Data"
   ]
  },
  {
   "cell_type": "code",
   "execution_count": 27,
   "metadata": {
    "pycharm": {
     "name": "#%%\n"
    }
   },
   "outputs": [
    {
     "name": "stdout",
     "output_type": "stream",
     "text": [
      "(825, 5)\n",
      "       functionality  templ_id  ref_templ_id label_gold  \\\n",
      "0  derog_neg_emote_h         1          <NA>    hateful   \n",
      "1  derog_neg_emote_h         2          <NA>    hateful   \n",
      "2  derog_neg_emote_h         3          <NA>    hateful   \n",
      "3  derog_neg_emote_h         4          <NA>    hateful   \n",
      "4  derog_neg_emote_h         5          <NA>    hateful   \n",
      "\n",
      "                                       case_templ  \n",
      "0                              Ik haat [IDENT_P].  \n",
      "1  Ik kan [IDENT_P] zoals jij echt niet uitstaan.  \n",
      "2                           Ik veracht [IDENT_P].  \n",
      "3                        Ik verafschuw [IDENT_P].  \n",
      "4      Ik heb een gruwelijke hekel aan [IDENT_P].  \n"
     ]
    }
   ],
   "source": [
    "# import data from csv file\n",
    "cases_df = pd.read_csv(f\"{STORE_PATH}/templates.csv\")\n",
    "\n",
    "# drop unneccessary columns\n",
    "cases_df.drop(columns=[\"focus_lemma\", \"trans_deepl\", \"trans_google\", \"case_templ\", \"number\"], inplace=True, errors=\"ignore\")\n",
    "\n",
    "# rename manual translation column to be new case_templ column\n",
    "cases_df.rename(columns={\"trans_manual\": \"case_templ\"}, inplace=True)\n",
    "\n",
    "# create label_gold column if it does not exist already\n",
    "if \"label_gold\" not in cases_df.columns:\n",
    "    cases_df[\"label_gold\"] = cases_df.apply(lambda x: \"hateful\" if x.functionality.endswith(\"_h\") else \"non-hateful\", axis=1)\n",
    "\n",
    "# tidy up column types\n",
    "cases_df = cases_df.convert_dtypes()\n",
    "cases_df['ref_templ_id'] = cases_df.ref_templ_id.astype('Int64')\n",
    "\n",
    "print(cases_df.shape)\n",
    "print(cases_df.head(5))"
   ]
  },
  {
   "cell_type": "markdown",
   "metadata": {
    "pycharm": {
     "name": "#%% md\n"
    }
   },
   "source": [
    "## Explode Templates into Individual Cases"
   ]
  },
  {
   "cell_type": "code",
   "execution_count": 28,
   "metadata": {
    "pycharm": {
     "name": "#%%\n"
    }
   },
   "outputs": [],
   "source": [
    "# define function for writing lists of test cases and target identities from templates\n",
    "\n",
    "def write_case_target(row):\n",
    "    test_case=[]\n",
    "    target_ident=[] \n",
    "\n",
    "    # for templates, use standard column\n",
    "    for key in placeholder_dict:\n",
    "        if key in row.case_templ:\n",
    "\n",
    "            for item in placeholder_dict[key][\"PLACEHOLDER\"]:\n",
    "                test_case.append(row.case_templ.replace(key, item))\n",
    "                    \n",
    "            for item in placeholder_dict[key][\"TARGET\"]:\n",
    "                target_ident.append(item)\n",
    "    \n",
    "    # for templates without placeholders, the case is just the template itself\n",
    "    if not test_case:\n",
    "        test_case = row.case_templ\n",
    "    return test_case, target_ident"
   ]
  },
  {
   "cell_type": "code",
   "execution_count": 29,
   "metadata": {
    "scrolled": true,
    "pycharm": {
     "name": "#%%\n"
    }
   },
   "outputs": [
    {
     "name": "stdout",
     "output_type": "stream",
     "text": [
      "(3835, 7)\n"
     ]
    }
   ],
   "source": [
    "# write lists of test cases from templates\n",
    "cases_df['test_case'] = cases_df.apply(lambda x: write_case_target(x), axis=1)\n",
    "cases_df['target_ident'] = cases_df.test_case.apply(lambda x: x[1])\n",
    "cases_df['test_case'] = cases_df.test_case.apply(lambda x: x[0])\n",
    "    \n",
    "# explode templates\n",
    "cases_df = pd.concat([cases_df.explode('test_case').drop(columns=['target_ident']),\n",
    "                                pd.Series.explode(cases_df.target_ident)], axis=1)\n",
    "\n",
    "# tidy up column types again\n",
    "cases_df = cases_df.convert_dtypes()\n",
    "\n",
    "print(cases_df.shape)"
   ]
  },
  {
   "cell_type": "markdown",
   "metadata": {
    "pycharm": {
     "name": "#%% md\n"
    }
   },
   "source": [
    "## Create References Between Cases"
   ]
  },
  {
   "cell_type": "code",
   "execution_count": 30,
   "metadata": {
    "pycharm": {
     "name": "#%%\n"
    }
   },
   "outputs": [
    {
     "name": "stdout",
     "output_type": "stream",
     "text": [
      "CPU times: user 1.57 s, sys: 1.11 ms, total: 1.57 s\n",
      "Wall time: 1.56 s\n"
     ]
    }
   ],
   "source": [
    "%%time\n",
    "\n",
    "def case_id_finder(row, df):\n",
    "    if pd.notna(row.ref_templ_id) and pd.notna(row.target_ident):\n",
    "        output = df.case_id[(df.templ_id==row.ref_templ_id)&(df.target_ident==row.target_ident)].values\n",
    "        if len(output) == 1:\n",
    "            return output[0]\n",
    "    else:\n",
    "        return pd.NA\n",
    "\n",
    "# create case IDs for every case\n",
    "cases_df.reset_index(inplace=True)\n",
    "cases_df['case_id']= cases_df.index + 1\n",
    "    \n",
    "# Match ref_templ_ids to case IDs. Only works for identity terms, not slurs\n",
    "cases_df['ref_case_id'] = cases_df.apply(lambda x: case_id_finder(x, cases_df), axis = 1)"
   ]
  },
  {
   "cell_type": "markdown",
   "metadata": {
    "pycharm": {
     "name": "#%% md\n"
    }
   },
   "source": [
    "## Language-specific Tidying"
   ]
  },
  {
   "cell_type": "code",
   "execution_count": 31,
   "metadata": {
    "pycharm": {
     "name": "#%%\n"
    }
   },
   "outputs": [],
   "source": [
    "# Capitalise first letter of all test cases (needed because of lowercase placeholders)\n",
    "cases_df[\"test_case\"] = cases_df.test_case.apply(lambda s: s[0].upper() + s[1:])"
   ]
  },
  {
   "cell_type": "markdown",
   "metadata": {
    "pycharm": {
     "name": "#%% md\n"
    }
   },
   "source": [
    "## Manual Inspection"
   ]
  },
  {
   "cell_type": "code",
   "execution_count": 32,
   "metadata": {
    "pycharm": {
     "name": "#%%\n"
    }
   },
   "outputs": [
    {
     "name": "stdout",
     "output_type": "stream",
     "text": [
      "Jij en alle andere h0moseksuelen zijn een plaag voor de samenleving. \n",
      "\n",
      "Typisch gedrag voor een p o t. \n",
      "\n",
      "Ik kon hem niet echt verstaan door zijn Mongoolse accent. \n",
      "\n",
      "Wanneer zullen mensen begrijpen dat alleen Moslims zo gewelddadig en wreed zijn? \n",
      "\n",
      "Deze gehandicapten hebben geen recht om te leven. \n",
      "\n",
      "Waarom houden baby's nooit hun rotbek in het vliegtuig? \n",
      "\n",
      "Ik zal jou en andere homoseksuelen zoals jij omhelzen. \n",
      "\n",
      "Typisch gedrag voor een kreupele. \n",
      "\n",
      "Immigranten zijn u i t s c h o t. \n",
      "\n",
      "Dingen zeggen als \"Verdoem alle zwarte personen\" laten zien wat voor slecht persoon jij bent. \n",
      "\n"
     ]
    }
   ],
   "source": [
    "for i in cases_df.test_case.sample(10):\n",
    "    print(i,\"\\n\")"
   ]
  },
  {
   "cell_type": "markdown",
   "metadata": {
    "pycharm": {
     "name": "#%% md\n"
    }
   },
   "source": [
    "## Export to CSV"
   ]
  },
  {
   "cell_type": "code",
   "execution_count": 33,
   "metadata": {
    "pycharm": {
     "name": "#%%\n"
    }
   },
   "outputs": [],
   "source": [
    "export_df = cases_df[['functionality', 'case_id', 'test_case', 'label_gold', 'target_ident', 'ref_case_id',\n",
    "                        'ref_templ_id', 'templ_id','case_templ']].copy()\n",
    "\n",
    "export_df.to_csv(f\"{STORE_PATH}/hatecheck-nl.csv\", index=False)"
   ]
  }
 ],
 "metadata": {
  "kernelspec": {
   "display_name": "Python 3 (ipykernel)",
   "language": "python",
   "name": "python3"
  },
  "language_info": {
   "codemirror_mode": {
    "name": "ipython",
    "version": 3
   },
   "file_extension": ".py",
   "mimetype": "text/x-python",
   "name": "python",
   "nbconvert_exporter": "python",
   "pygments_lexer": "ipython3",
   "version": "3.9.7"
  }
 },
 "nbformat": 4,
 "nbformat_minor": 4
}